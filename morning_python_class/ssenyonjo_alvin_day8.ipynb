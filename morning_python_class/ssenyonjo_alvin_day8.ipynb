{
 "cells": [
  {
   "cell_type": "code",
   "execution_count": 1,
   "metadata": {},
   "outputs": [
    {
     "name": "stdout",
     "output_type": "stream",
     "text": [
      "1.26.4\n",
      "2.2.2\n"
     ]
    }
   ],
   "source": [
    "# Data Science with Python\n",
    "\n",
    "# Application of data science\n",
    "\n",
    "# data analysis focus on processing data and extracting insights to give informed decisions.\n",
    "# tools used in data science, analysis, ML\n",
    "# data collection tool, ODK \n",
    "\n",
    "# 1: import necessary libraries \n",
    "import numpy as np\n",
    "import pandas as pd \n",
    "import matplotlib.pyplot as plt\n",
    "import seaborn as sns \n",
    "\n",
    "print(np.__version__)\n",
    "print(pd.__version__)"
   ]
  },
  {
   "cell_type": "code",
   "execution_count": null,
   "metadata": {},
   "outputs": [],
   "source": [
    "%pip install matplotlib\n"
   ]
  },
  {
   "cell_type": "code",
   "execution_count": 7,
   "metadata": {},
   "outputs": [
    {
     "name": "stdout",
     "output_type": "stream",
     "text": [
      "    number_siblings                      name     sex  age living_allowance  \\\n",
      "0                 1        Nakasujja Gertrude  female   33              NaN   \n",
      "1                 3     Arinda Asiimwe Atweta  female   23           50,000   \n",
      "2                 4       Ndjekornom Victoire    male   23            25000   \n",
      "3                 0            KATURAMU EDGAR    male   27           500000   \n",
      "4                 4         Abinsinguza Lasse    male   24           100000   \n",
      "5                 4       Beingana Jim Junior    male   20            10000   \n",
      "6                 6  Cyiza Ndoli Jean de Dieu    male   23            60000   \n",
      "7                 8       MUSIIMENTA CISSYLYN  female   20               70   \n",
      "8                 2          Nakanwagu Vanesa  female   23           250000   \n",
      "9                 9               Otim Ronald    male   25              NaN   \n",
      "10                1                 Levi Aine    male   24        1,000,000   \n",
      "11                1             NASAAZI TAKIA  female   23             2000   \n",
      "12                5                     Alvin    male   23          2500000   \n",
      "13                3           MULINDWA YUSUF     male   22              NaN   \n",
      "14                2                    Hillal    male   32           150000   \n",
      "\n",
      "                   Are_you_a  How_many_time_do_eat_food  Unnamed: 7  \\\n",
      "0             Data Scientist                          2         NaN   \n",
      "1   Machine Learning Enginer                          1         NaN   \n",
      "2             Data Scientist                          1         NaN   \n",
      "3   Machine Learning Enginer                          2         NaN   \n",
      "4             Data Scientist                          2         NaN   \n",
      "5             Data Scientist                          3         NaN   \n",
      "6               Data Analyst                          2         NaN   \n",
      "7   Machine Learning Enginer                          3         NaN   \n",
      "8             Data Scientist                          3         NaN   \n",
      "9             Data Scientist                          2         NaN   \n",
      "10            Data Scientist                          3         NaN   \n",
      "11              Data Analyst                          1         NaN   \n",
      "12  Machine Learning Enginer                          3         NaN   \n",
      "13            Data Scientist                          3         NaN   \n",
      "14  Machine Learning Enginer                          2         NaN   \n",
      "\n",
      "    do_you_have_aboyfriend/girlfriend  \n",
      "0                                   1  \n",
      "1                                   1  \n",
      "2                                   0  \n",
      "3                                   0  \n",
      "4                                   1  \n",
      "5                                   0  \n",
      "6                                   0  \n",
      "7                                   0  \n",
      "8                                   1  \n",
      "9                                   0  \n",
      "10                                  0  \n",
      "11                                  0  \n",
      "12                                  1  \n",
      "13                                  0  \n",
      "14                                  0  \n"
     ]
    }
   ],
   "source": [
    "# step@: Load data set\n",
    "\n",
    "df = pd.read_csv(r\"niceguys.csv\")\n",
    "\n",
    "# display first row of the database\n",
    "print(df.head(15))"
   ]
  },
  {
   "cell_type": "code",
   "execution_count": null,
   "metadata": {},
   "outputs": [],
   "source": [
    "# Stepp3: Data cleaning and pre-processing\n",
    "\n",
    "# Check for missing values\n",
    "print(df.isnull().sum())"
   ]
  },
  {
   "cell_type": "code",
   "execution_count": null,
   "metadata": {},
   "outputs": [],
   "source": [
    "# Fill missing values\n",
    "df['living allowance'].fillna(df('living allowance').median(),inplace=True)\n",
    "\n",
    "# Drop row where living allowance column has a value 50,000 and 1000,000\n",
    "df[~df['living_allowance'].isin([50000, 100000])]"
   ]
  },
  {
   "cell_type": "code",
   "execution_count": 1,
   "metadata": {},
   "outputs": [
    {
     "name": "stdout",
     "output_type": "stream",
     "text": [
      "Requirement already satisfied: seaborn in /home/ssenyonjoalvin/anaconda3/lib/python3.11/site-packages (0.12.2)\n",
      "Requirement already satisfied: numpy!=1.24.0,>=1.17 in /home/ssenyonjoalvin/anaconda3/lib/python3.11/site-packages (from seaborn) (1.26.4)\n",
      "Requirement already satisfied: pandas>=0.25 in /home/ssenyonjoalvin/anaconda3/lib/python3.11/site-packages (from seaborn) (2.2.2)\n",
      "Requirement already satisfied: matplotlib!=3.6.1,>=3.1 in /home/ssenyonjoalvin/anaconda3/lib/python3.11/site-packages (from seaborn) (3.8.0)\n",
      "Requirement already satisfied: contourpy>=1.0.1 in /home/ssenyonjoalvin/anaconda3/lib/python3.11/site-packages (from matplotlib!=3.6.1,>=3.1->seaborn) (1.2.0)\n",
      "Requirement already satisfied: cycler>=0.10 in /home/ssenyonjoalvin/anaconda3/lib/python3.11/site-packages (from matplotlib!=3.6.1,>=3.1->seaborn) (0.11.0)\n",
      "Requirement already satisfied: fonttools>=4.22.0 in /home/ssenyonjoalvin/anaconda3/lib/python3.11/site-packages (from matplotlib!=3.6.1,>=3.1->seaborn) (4.25.0)\n",
      "Requirement already satisfied: kiwisolver>=1.0.1 in /home/ssenyonjoalvin/anaconda3/lib/python3.11/site-packages (from matplotlib!=3.6.1,>=3.1->seaborn) (1.4.4)\n",
      "Requirement already satisfied: packaging>=20.0 in /home/ssenyonjoalvin/anaconda3/lib/python3.11/site-packages (from matplotlib!=3.6.1,>=3.1->seaborn) (23.1)\n",
      "Requirement already satisfied: pillow>=6.2.0 in /home/ssenyonjoalvin/anaconda3/lib/python3.11/site-packages (from matplotlib!=3.6.1,>=3.1->seaborn) (10.2.0)\n",
      "Requirement already satisfied: pyparsing>=2.3.1 in /home/ssenyonjoalvin/anaconda3/lib/python3.11/site-packages (from matplotlib!=3.6.1,>=3.1->seaborn) (3.0.9)\n",
      "Requirement already satisfied: python-dateutil>=2.7 in /home/ssenyonjoalvin/anaconda3/lib/python3.11/site-packages (from matplotlib!=3.6.1,>=3.1->seaborn) (2.8.2)\n",
      "Requirement already satisfied: pytz>=2020.1 in /home/ssenyonjoalvin/anaconda3/lib/python3.11/site-packages (from pandas>=0.25->seaborn) (2023.3.post1)\n",
      "Requirement already satisfied: tzdata>=2022.7 in /home/ssenyonjoalvin/anaconda3/lib/python3.11/site-packages (from pandas>=0.25->seaborn) (2023.3)\n",
      "Requirement already satisfied: six>=1.5 in /home/ssenyonjoalvin/anaconda3/lib/python3.11/site-packages (from python-dateutil>=2.7->matplotlib!=3.6.1,>=3.1->seaborn) (1.16.0)\n",
      "Note: you may need to restart the kernel to use updated packages.\n"
     ]
    }
   ],
   "source": [
    "%pip install seaborn"
   ]
  },
  {
   "cell_type": "code",
   "execution_count": null,
   "metadata": {},
   "outputs": [],
   "source": [
    "# what to do\n",
    "# Step 1: import necessary libraries \n",
    "# Step 2: Loading the dataset\n",
    "# Step 3: Data cleaning and preproceesing\n",
    "# Step 4: EDA Explotary Data Analysis\n",
    "# Distribution students with Age and whether they have girlfriend or boyfriend\n",
    "# Gender who have boyfriend and girlfriend\n",
    "# Do you eat, age, gender and gf and bf\n",
    "# Living allowance and gf and bf\n",
    "# Those with bf nd gf if they have siblings,\n",
    "# the no meals taken and the living allowance\n",
    "# Careers and bf or gf\n",
    "\n",
    "# Correction Heatmaps, correlation matrix and plot the heatmaps\n",
    "\n",
    "# Decision making/ insights of the data, data analysis conclusions\n",
    "\n",
    "#1: Age and gf or bf\n",
    "#2: Gender and gf or bf\n",
    "#3: correlation analysis\n",
    "\n",
    "# whatever is in the steps, every question should appear in the conclusion"
   ]
  },
  {
   "cell_type": "markdown",
   "metadata": {},
   "source": []
  }
 ],
 "metadata": {
  "kernelspec": {
   "display_name": "Python 3",
   "language": "python",
   "name": "python3"
  },
  "language_info": {
   "codemirror_mode": {
    "name": "ipython",
    "version": 3
   },
   "file_extension": ".py",
   "mimetype": "text/x-python",
   "name": "python",
   "nbconvert_exporter": "python",
   "pygments_lexer": "ipython3",
   "version": "3.11.7"
  }
 },
 "nbformat": 4,
 "nbformat_minor": 2
}
