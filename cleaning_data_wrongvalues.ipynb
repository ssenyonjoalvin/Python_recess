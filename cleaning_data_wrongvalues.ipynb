{
 "cells": [
  {
   "cell_type": "code",
   "execution_count": 10,
   "metadata": {},
   "outputs": [],
   "source": [
    "# here we have two options either \n",
    "# 1. to remove the row  \n",
    "# 2.  to covert all the values in the culomn to the same formate\n",
    "#   3. for a small data set we can only replace a value "
   ]
  },
  {
   "cell_type": "code",
   "execution_count": null,
   "metadata": {},
   "outputs": [],
   "source": [
    "import pandas as pd\n",
    "df = pd.read_csv(\"niceguys.csv\")\n",
    "print(df)"
   ]
  },
  {
   "cell_type": "code",
   "execution_count": null,
   "metadata": {},
   "outputs": [],
   "source": [
    "\n",
    "x = df['living_allowance'].mean()\n",
    "df.fillna({'living_allowance' : x},inplace = True)\n",
    "print(df.isna().sum())"
   ]
  },
  {
   "cell_type": "code",
   "execution_count": null,
   "metadata": {},
   "outputs": [],
   "source": [
    "# here we convert the data Frame to a single type and check if there is any row that is not of that type.\n",
    "df['living_allowance'] = pd.to_numeric(df['living_allowance'], errors= 'coerce')\n",
    "print(df.isna().sum())"
   ]
  },
  {
   "cell_type": "code",
   "execution_count": null,
   "metadata": {},
   "outputs": [],
   "source": [
    "# Wrong data ....... incase the row has data in the right format, not empty row, but the figure was wrongly emptyed into the system\n",
    "# eg instead of 19 someone enters 19999\n",
    "\n",
    "# here we can solve this by replacing the data\n",
    "\n",
    "# set 'duration' =45 in row 7\n",
    "df.loc[7,'duration'] = 45\n",
    "\n",
    "# we can also loop through the column and set the column values to a minimum\n",
    "for x in df.index:\n",
    "    if df.loc[x,'duration'] > 120:\n",
    "        df.loc[x,'duration'] = 120\n"
   ]
  },
  {
   "cell_type": "code",
   "execution_count": 16,
   "metadata": {},
   "outputs": [
    {
     "name": "stdout",
     "output_type": "stream",
     "text": [
      "Empty DataFrame\n",
      "Columns: [number_siblings, name, sex, age, living_allowance, Are_you_a, How_many_time_do_eat_food, do_you_have_aboyfriend/girlfriend]\n",
      "Index: []\n",
      "rows: 35 columns: 8\n"
     ]
    }
   ],
   "source": [
    "# for dulipcate values \n",
    "# we use the duplicated() to find duplicates in the data frame\n",
    "# returns a boolean value for each row\n",
    "\n",
    "import pandas as pd\n",
    "pd.set_option('display.max_row',35)\n",
    "df = pd.read_csv(\"niceguys.csv\")\n",
    "\n",
    "# print(df.to_string())\n",
    "\n",
    "duplicate = df[df.duplicated()]\n",
    "print(duplicate)\n",
    "\n",
    "row = df.shape[0]\n",
    "column = df.shape[1]\n",
    "print('rows:' ,row    , 'columns:' ,column)\n"
   ]
  },
  {
   "cell_type": "code",
   "execution_count": null,
   "metadata": {},
   "outputs": [],
   "source": [
    "# to remove all the duplicates \n",
    "df.drop_duplicates(inplace = True)\n"
   ]
  }
 ],
 "metadata": {
  "kernelspec": {
   "display_name": "base",
   "language": "python",
   "name": "python3"
  },
  "language_info": {
   "codemirror_mode": {
    "name": "ipython",
    "version": 3
   },
   "file_extension": ".py",
   "mimetype": "text/x-python",
   "name": "python",
   "nbconvert_exporter": "python",
   "pygments_lexer": "ipython3",
   "version": "3.11.7"
  }
 },
 "nbformat": 4,
 "nbformat_minor": 2
}
