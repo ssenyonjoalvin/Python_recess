{
 "cells": [
  {
   "cell_type": "code",
   "execution_count": null,
   "metadata": {},
   "outputs": [],
   "source": [
    "# feature Engineering\n",
    "# select the top 10 features based on th chi-squared test:\n",
    "from sklearn.feature_selection import SelectKBest, chi2\n",
    "\n",
    "\n",
    "selector = SelectKBest(chi2,k=10)\n",
    "X_selected = selector.fit_transform(X,y)\n",
    "\n"
   ]
  },
  {
   "cell_type": "code",
   "execution_count": null,
   "metadata": {},
   "outputs": [],
   "source": [
    "# Notes on the datasets\n",
    "target column, is the heart disease status ,where ,0= no heart disease , 1 = presence of the heart disease\n",
    "i have not yet feiek"
   ]
  }
 ],
 "metadata": {
  "language_info": {
   "name": "python"
  }
 },
 "nbformat": 4,
 "nbformat_minor": 2
}
