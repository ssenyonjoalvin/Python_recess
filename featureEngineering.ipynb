{
 "cells": [
  {
   "cell_type": "code",
   "execution_count": null,
   "metadata": {},
   "outputs": [],
   "source": [
    "# Feature Engineering is the process of creating new or transforming existing features to improve the preformance of the machine learning model\n",
    "\n",
    "# it involves selecting relevant information from raw data and transforming it into a format that can be easily understood by the model\n",
    "\n",
    "# ***the goal is to improve model accuracy by providing more meaningful and relevant information\n",
    "\n",
    "# feature engineering consists of five processes\n",
    "\"\"\"\n",
    "-feature Creation\n",
    "-feature Transformation\n",
    "-feature Extraction\n",
    "-feature selection\n",
    "-feature scaling\n",
    "\"\"\""
   ]
  },
  {
   "cell_type": "code",
   "execution_count": null,
   "metadata": {},
   "outputs": [],
   "source": [
    "# feature Tranformation : change the feature from one form to another form.\n",
    "# by using feature Tranformation we improve the accuracy of the algorithm\n",
    "\"\"\"\n",
    "feature encoding \n",
    "feature scaling\n",
    "\n",
    "\"\"\"\n",
    "feat vsure encoding \n"
   ]
  }
 ],
 "metadata": {
  "language_info": {
   "name": "python"
  }
 },
 "nbformat": 4,
 "nbformat_minor": 2
}
